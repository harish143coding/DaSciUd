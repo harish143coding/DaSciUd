{
  "nbformat": 4,
  "nbformat_minor": 0,
  "metadata": {
    "colab": {
      "provenance": [],
      "authorship_tag": "ABX9TyM1M6vfVfAhKB+CxNNOHhlz",
      "include_colab_link": true
    },
    "kernelspec": {
      "name": "python3",
      "display_name": "Python 3"
    },
    "language_info": {
      "name": "python"
    }
  },
  "cells": [
    {
      "cell_type": "markdown",
      "metadata": {
        "id": "view-in-github",
        "colab_type": "text"
      },
      "source": [
        "<a href=\"https://colab.research.google.com/github/harish143coding/DaSciUd/blob/develop/Pyspark_learnings_nb1.ipynb\" target=\"_parent\"><img src=\"https://colab.research.google.com/assets/colab-badge.svg\" alt=\"Open In Colab\"/></a>"
      ]
    },
    {
      "cell_type": "code",
      "execution_count": null,
      "metadata": {
        "id": "aAJ5hdVIxRCb"
      },
      "outputs": [],
      "source": []
    },
    {
      "cell_type": "markdown",
      "source": [
        "### Executor cell\n"
      ],
      "metadata": {
        "id": "ewi4fLp7yBQU"
      }
    },
    {
      "cell_type": "code",
      "source": [
        "from pyspark.sql import SparkSession\n",
        "from pyspark.sql.functions import col, sum, when, avg, max, min, count, row_number, rank, dense_rank, lag\n",
        "from pyspark.sql.window import Window\n",
        "spark = SparkSession.builder.appName(\"learningsession\").getOrCreate()"
      ],
      "metadata": {
        "id": "QnlUwv6mzScS"
      },
      "execution_count": 1,
      "outputs": []
    },
    {
      "cell_type": "code",
      "source": [
        "#start with D12\n",
        "data = [(\"a\", \"el\", 11),\n",
        "        (\"b\", \"el\", 12),\n",
        "        (\"c\", \"fur\", 13),\n",
        "        (\"d\", \"fur\", 14),\n",
        "        (\"e\", \"el\", 15),\n",
        "        (\"f\", \"fur\", 16),\n",
        "        (\"e\",\"fur\", 22),\n",
        "        (\"f\", \"el\", 24)\n",
        "]\n",
        "df  = spark.createDataFrame(data, [\"Customer\", \"category\", \"Amount\"])\n",
        "df.show()"
      ],
      "metadata": {
        "colab": {
          "base_uri": "https://localhost:8080/"
        },
        "id": "o-OYuSCQ0hUz",
        "outputId": "2dae4bb1-c912-4770-b5b0-92f1c4ca6556"
      },
      "execution_count": 2,
      "outputs": [
        {
          "output_type": "stream",
          "name": "stdout",
          "text": [
            "+--------+--------+------+\n",
            "|Customer|category|Amount|\n",
            "+--------+--------+------+\n",
            "|       a|      el|    11|\n",
            "|       b|      el|    12|\n",
            "|       c|     fur|    13|\n",
            "|       d|     fur|    14|\n",
            "|       e|      el|    15|\n",
            "|       f|     fur|    16|\n",
            "|       e|     fur|    22|\n",
            "|       f|      el|    24|\n",
            "+--------+--------+------+\n",
            "\n"
          ]
        }
      ]
    },
    {
      "cell_type": "code",
      "source": [
        "df.groupBy(\"category\").sum(\"amount\").show()"
      ],
      "metadata": {
        "id": "bQSQMIJ091q4",
        "colab": {
          "base_uri": "https://localhost:8080/"
        },
        "outputId": "4b6a411e-6883-432a-9f61-4f6234eb9858"
      },
      "execution_count": null,
      "outputs": [
        {
          "output_type": "stream",
          "name": "stdout",
          "text": [
            "+--------+-----------+\n",
            "|category|sum(amount)|\n",
            "+--------+-----------+\n",
            "|      el|         38|\n",
            "|     fur|         43|\n",
            "+--------+-----------+\n",
            "\n"
          ]
        }
      ]
    },
    {
      "cell_type": "code",
      "source": [
        "df.groupBy(\"customer\").sum(\"amount\").show()"
      ],
      "metadata": {
        "colab": {
          "base_uri": "https://localhost:8080/"
        },
        "id": "d0W8LP5tjY5l",
        "outputId": "2a0390ea-67d8-45c9-b773-a8aad24b8c7d"
      },
      "execution_count": null,
      "outputs": [
        {
          "output_type": "stream",
          "name": "stdout",
          "text": [
            "+--------+-----------+\n",
            "|customer|sum(amount)|\n",
            "+--------+-----------+\n",
            "|       c|         13|\n",
            "|       b|         12|\n",
            "|       a|         11|\n",
            "|       f|         16|\n",
            "|       e|         15|\n",
            "|       d|         14|\n",
            "+--------+-----------+\n",
            "\n"
          ]
        }
      ]
    },
    {
      "cell_type": "code",
      "source": [
        "#cntd D12S3\n",
        "df.groupBy(\"Customer\").agg(sum(\"Amount\").alias(\"Totalspent\"),\\\n",
        "        avg(\"Amount\").alias(\"Avgspent\"),\\\n",
        "        max(\"Amount\").alias(\"Maxspent\"),\\\n",
        "        min(\"Amount\").alias(\"Minspent\")).show()\n"
      ],
      "metadata": {
        "id": "9qBQ2oekkas-",
        "colab": {
          "base_uri": "https://localhost:8080/"
        },
        "outputId": "793a0787-96db-4600-e363-13bcb31172b9"
      },
      "execution_count": null,
      "outputs": [
        {
          "output_type": "stream",
          "name": "stdout",
          "text": [
            "+--------+----------+--------+--------+--------+\n",
            "|Customer|Totalspent|Avgspent|Maxspent|Minspent|\n",
            "+--------+----------+--------+--------+--------+\n",
            "|       c|        13|    13.0|      13|      13|\n",
            "|       b|        12|    12.0|      12|      12|\n",
            "|       a|        11|    11.0|      11|      11|\n",
            "|       f|        16|    16.0|      16|      16|\n",
            "|       e|        15|    15.0|      15|      15|\n",
            "|       d|        14|    14.0|      14|      14|\n",
            "+--------+----------+--------+--------+--------+\n",
            "\n"
          ]
        }
      ]
    },
    {
      "cell_type": "code",
      "source": [
        "df.groupBy(\"Customer\", \"category\").sum(\"Amount\").show()"
      ],
      "metadata": {
        "id": "uZTzZgWGzbYo",
        "colab": {
          "base_uri": "https://localhost:8080/"
        },
        "outputId": "be3ef7c7-073e-4d6e-ac9a-1b4a0cfd4fc3"
      },
      "execution_count": null,
      "outputs": [
        {
          "output_type": "stream",
          "name": "stdout",
          "text": [
            "+--------+--------+-----------+\n",
            "|Customer|category|sum(Amount)|\n",
            "+--------+--------+-----------+\n",
            "|       a|      el|         11|\n",
            "|       c|     fur|         13|\n",
            "|       b|      el|         12|\n",
            "|       f|     fur|         16|\n",
            "|       d|     fur|         14|\n",
            "|       e|      el|         15|\n",
            "+--------+--------+-----------+\n",
            "\n"
          ]
        }
      ]
    },
    {
      "cell_type": "code",
      "source": [
        "cat_agg = df.groupBy(\"category\").agg(\\\n",
        "             sum(\"Amount\").alias(\"Totalspent\"),\\\n",
        "             avg(\"Amount\").alias(\"Avgspent\"),\\\n",
        "             count(\"*\").alias(\"Totalcount\")\\\n",
        "             )\n",
        "cat_agg.show()"
      ],
      "metadata": {
        "id": "nQNX3xprgOpF",
        "colab": {
          "base_uri": "https://localhost:8080/"
        },
        "outputId": "472de2f7-99eb-4d6d-e5cd-e9848be194d2"
      },
      "execution_count": null,
      "outputs": [
        {
          "output_type": "stream",
          "name": "stdout",
          "text": [
            "+--------+----------+------------------+----------+\n",
            "|category|Totalspent|          Avgspent|Totalcount|\n",
            "+--------+----------+------------------+----------+\n",
            "|      el|        38|12.666666666666666|         3|\n",
            "|     fur|        43|14.333333333333334|         3|\n",
            "+--------+----------+------------------+----------+\n",
            "\n"
          ]
        }
      ]
    },
    {
      "cell_type": "code",
      "source": [
        "cat_cus_df = df.groupBy(\"Customer\", \"category\")\\\n",
        "               .agg(sum(\"Amount\").alias(\"Totalspent\"),\\\n",
        "                    max(\"Amount\").alias(\"Maxamount\"))\n",
        "cat_cus_df.show()"
      ],
      "metadata": {
        "id": "CiAaQCYAhEqB",
        "colab": {
          "base_uri": "https://localhost:8080/"
        },
        "outputId": "e3f1dc38-819f-4d48-b781-7f60012a37fc"
      },
      "execution_count": null,
      "outputs": [
        {
          "output_type": "stream",
          "name": "stdout",
          "text": [
            "+--------+--------+----------+---------+\n",
            "|Customer|category|Totalspent|Maxamount|\n",
            "+--------+--------+----------+---------+\n",
            "|       a|      el|        11|       11|\n",
            "|       c|     fur|        13|       13|\n",
            "|       b|      el|        12|       12|\n",
            "|       f|     fur|        16|       16|\n",
            "|       d|     fur|        14|       14|\n",
            "|       e|      el|        15|       15|\n",
            "+--------+--------+----------+---------+\n",
            "\n"
          ]
        }
      ]
    },
    {
      "cell_type": "code",
      "source": [
        "# D13 start with widow functs, window_spec\n",
        "window_spec = Window.partitionBy(\"Customer\").orderBy(df['Amount'])\n",
        "type(window_spec)"
      ],
      "metadata": {
        "id": "3do5FFsevz_G",
        "colab": {
          "base_uri": "https://localhost:8080/",
          "height": 186
        },
        "outputId": "b42f1acd-c17b-4b54-cbc2-3747ff08d6c9"
      },
      "execution_count": 4,
      "outputs": [
        {
          "output_type": "execute_result",
          "data": {
            "text/plain": [
              "pyspark.sql.window.WindowSpec"
            ],
            "text/html": [
              "<div style=\"max-width:800px; border: 1px solid var(--colab-border-color);\"><style>\n",
              "      pre.function-repr-contents {\n",
              "        overflow-x: auto;\n",
              "        padding: 8px 12px;\n",
              "        max-height: 500px;\n",
              "      }\n",
              "\n",
              "      pre.function-repr-contents.function-repr-contents-collapsed {\n",
              "        cursor: pointer;\n",
              "        max-height: 100px;\n",
              "      }\n",
              "    </style>\n",
              "    <pre style=\"white-space: initial; background:\n",
              "         var(--colab-secondary-surface-color); padding: 8px 12px;\n",
              "         border-bottom: 1px solid var(--colab-border-color);\"><b>pyspark.sql.window.WindowSpec</b><br/>def __init__(jspec: JavaObject) -&gt; None</pre><pre class=\"function-repr-contents function-repr-contents-collapsed\" style=\"\"><a class=\"filepath\" style=\"display:none\" href=\"#\">/usr/local/lib/python3.11/dist-packages/pyspark/sql/window.py</a>A window specification that defines the partitioning, ordering,\n",
              "and frame boundaries.\n",
              "\n",
              "Use the static methods in :class:`Window` to create a :class:`WindowSpec`.\n",
              "\n",
              ".. versionadded:: 1.4.0\n",
              "\n",
              ".. versionchanged:: 3.4.0\n",
              "    Supports Spark Connect.</pre>\n",
              "      <script>\n",
              "      if (google.colab.kernel.accessAllowed && google.colab.files && google.colab.files.view) {\n",
              "        for (const element of document.querySelectorAll('.filepath')) {\n",
              "          element.style.display = 'block'\n",
              "          element.onclick = (event) => {\n",
              "            event.preventDefault();\n",
              "            event.stopPropagation();\n",
              "            google.colab.files.view(element.textContent, 365);\n",
              "          };\n",
              "        }\n",
              "      }\n",
              "      for (const element of document.querySelectorAll('.function-repr-contents')) {\n",
              "        element.onclick = (event) => {\n",
              "          event.preventDefault();\n",
              "          event.stopPropagation();\n",
              "          element.classList.toggle('function-repr-contents-collapsed');\n",
              "        };\n",
              "      }\n",
              "      </script>\n",
              "      </div>"
            ]
          },
          "metadata": {},
          "execution_count": 4
        }
      ]
    },
    {
      "cell_type": "code",
      "source": [
        "# ranking the DF\n",
        "df_ranks = df.withColumn(\"row_number\", row_number().over(window_spec))\\\n",
        "             .withColumn(\"rank\", rank().over(window_spec))\\\n",
        "             .withColumn(\"dense_rank\", dense_rank().over(window_spec))\n",
        "df_ranks.show()"
      ],
      "metadata": {
        "colab": {
          "base_uri": "https://localhost:8080/"
        },
        "id": "-8BqZ8yLv6Z5",
        "outputId": "9c52ba76-0aff-4f73-966b-160097bbb875"
      },
      "execution_count": 5,
      "outputs": [
        {
          "output_type": "stream",
          "name": "stdout",
          "text": [
            "+--------+--------+------+----------+----+----------+\n",
            "|Customer|category|Amount|row_number|rank|dense_rank|\n",
            "+--------+--------+------+----------+----+----------+\n",
            "|       a|      el|    11|         1|   1|         1|\n",
            "|       b|      el|    12|         1|   1|         1|\n",
            "|       c|     fur|    13|         1|   1|         1|\n",
            "|       d|     fur|    14|         1|   1|         1|\n",
            "|       e|      el|    15|         1|   1|         1|\n",
            "|       e|     fur|    22|         2|   2|         2|\n",
            "|       f|     fur|    16|         1|   1|         1|\n",
            "|       f|      el|    24|         2|   2|         2|\n",
            "+--------+--------+------+----------+----+----------+\n",
            "\n"
          ]
        }
      ]
    },
    {
      "cell_type": "code",
      "source": [
        "df_lag = df.withColumn(\"lag_amount\", lag(\"Amount\").over(window_spec))\n",
        "df_lag.show()"
      ],
      "metadata": {
        "colab": {
          "base_uri": "https://localhost:8080/"
        },
        "id": "4eCWDAMAwaA4",
        "outputId": "e397eb81-a35f-435f-a5b4-9993efbf3166"
      },
      "execution_count": 8,
      "outputs": [
        {
          "output_type": "stream",
          "name": "stdout",
          "text": [
            "+--------+--------+------+----------+\n",
            "|Customer|category|Amount|lag_amount|\n",
            "+--------+--------+------+----------+\n",
            "|       a|      el|    11|      NULL|\n",
            "|       b|      el|    12|      NULL|\n",
            "|       c|     fur|    13|      NULL|\n",
            "|       d|     fur|    14|      NULL|\n",
            "|       e|      el|    15|      NULL|\n",
            "|       e|     fur|    22|        15|\n",
            "|       f|     fur|    16|      NULL|\n",
            "|       f|      el|    24|        16|\n",
            "+--------+--------+------+----------+\n",
            "\n"
          ]
        }
      ]
    }
  ]
}