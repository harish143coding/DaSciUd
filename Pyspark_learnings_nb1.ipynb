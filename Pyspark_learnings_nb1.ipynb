{
  "nbformat": 4,
  "nbformat_minor": 0,
  "metadata": {
    "colab": {
      "provenance": [],
      "authorship_tag": "ABX9TyOzHOldfA3MV5Qa6wPvSufr",
      "include_colab_link": true
    },
    "kernelspec": {
      "name": "python3",
      "display_name": "Python 3"
    },
    "language_info": {
      "name": "python"
    }
  },
  "cells": [
    {
      "cell_type": "markdown",
      "metadata": {
        "id": "view-in-github",
        "colab_type": "text"
      },
      "source": [
        "<a href=\"https://colab.research.google.com/github/harish143coding/DaSciUd/blob/develop/Pyspark_learnings_nb1.ipynb\" target=\"_parent\"><img src=\"https://colab.research.google.com/assets/colab-badge.svg\" alt=\"Open In Colab\"/></a>"
      ]
    },
    {
      "cell_type": "code",
      "execution_count": null,
      "metadata": {
        "id": "aAJ5hdVIxRCb"
      },
      "outputs": [],
      "source": []
    },
    {
      "cell_type": "markdown",
      "source": [
        "### Executor cell\n"
      ],
      "metadata": {
        "id": "ewi4fLp7yBQU"
      }
    },
    {
      "cell_type": "code",
      "source": [
        "from pyspark.sql import SparkSession\n",
        "from pyspark.sql.functions import col, when\n",
        "spark = SparkSession.builder.appName(\"learningsession\").getOrCreate()"
      ],
      "metadata": {
        "id": "QnlUwv6mzScS"
      },
      "execution_count": 2,
      "outputs": []
    },
    {
      "cell_type": "code",
      "source": [
        "#start with D12\n",
        "data = [(\"a\", \"el\", 11),\n",
        "        (\"b\", \"el\", 12),\n",
        "        (\"c\", \"fur\", 13),\n",
        "        (\"d\", \"fur\", 14),\n",
        "        (\"e\", \"el\", 15),\n",
        "        (\"f\", \"fur\", 16)\n",
        "]\n",
        "df  = spark.createDataFrame(data, [\"customer\", \"category\", \"amount\"])\n",
        "df.show()"
      ],
      "metadata": {
        "colab": {
          "base_uri": "https://localhost:8080/"
        },
        "id": "o-OYuSCQ0hUz",
        "outputId": "434c4d63-a797-4ba6-f6cd-b06addf6915d"
      },
      "execution_count": 3,
      "outputs": [
        {
          "output_type": "stream",
          "name": "stdout",
          "text": [
            "+--------+--------+------+\n",
            "|customer|category|amount|\n",
            "+--------+--------+------+\n",
            "|       a|      el|    11|\n",
            "|       b|      el|    12|\n",
            "|       c|     fur|    13|\n",
            "|       d|     fur|    14|\n",
            "|       e|      el|    15|\n",
            "|       f|     fur|    16|\n",
            "+--------+--------+------+\n",
            "\n"
          ]
        }
      ]
    },
    {
      "cell_type": "code",
      "source": [],
      "metadata": {
        "id": "bQSQMIJ091q4"
      },
      "execution_count": null,
      "outputs": []
    }
  ]
}