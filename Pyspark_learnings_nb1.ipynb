{
  "nbformat": 4,
  "nbformat_minor": 0,
  "metadata": {
    "colab": {
      "provenance": [],
      "authorship_tag": "ABX9TyNhAzpAQDNQEnVElopCpxVL",
      "include_colab_link": true
    },
    "kernelspec": {
      "name": "python3",
      "display_name": "Python 3"
    },
    "language_info": {
      "name": "python"
    }
  },
  "cells": [
    {
      "cell_type": "markdown",
      "metadata": {
        "id": "view-in-github",
        "colab_type": "text"
      },
      "source": [
        "<a href=\"https://colab.research.google.com/github/harish143coding/DaSciUd/blob/develop/Pyspark_learnings_nb1.ipynb\" target=\"_parent\"><img src=\"https://colab.research.google.com/assets/colab-badge.svg\" alt=\"Open In Colab\"/></a>"
      ]
    },
    {
      "cell_type": "code",
      "execution_count": null,
      "metadata": {
        "id": "aAJ5hdVIxRCb"
      },
      "outputs": [],
      "source": []
    },
    {
      "cell_type": "markdown",
      "source": [
        "### Executor cell\n"
      ],
      "metadata": {
        "id": "ewi4fLp7yBQU"
      }
    },
    {
      "cell_type": "code",
      "source": [
        "from pyspark.sql import SparkSession\n",
        "from pyspark.sql.functions import col, when, avg, max, min\n",
        "spark = SparkSession.builder.appName(\"learningsession\").getOrCreate()"
      ],
      "metadata": {
        "id": "QnlUwv6mzScS"
      },
      "execution_count": 4,
      "outputs": []
    },
    {
      "cell_type": "code",
      "source": [
        "#start with D12\n",
        "data = [(\"a\", \"el\", 11),\n",
        "        (\"b\", \"el\", 12),\n",
        "        (\"c\", \"fur\", 13),\n",
        "        (\"d\", \"fur\", 14),\n",
        "        (\"e\", \"el\", 15),\n",
        "        (\"f\", \"fur\", 16)\n",
        "]\n",
        "df  = spark.createDataFrame(data, [\"Customer\", \"category\", \"Amount\"])\n",
        "df.show()"
      ],
      "metadata": {
        "colab": {
          "base_uri": "https://localhost:8080/"
        },
        "id": "o-OYuSCQ0hUz",
        "outputId": "6efdb6f8-c9f6-440a-c9d3-8878a90eeb40"
      },
      "execution_count": 10,
      "outputs": [
        {
          "output_type": "stream",
          "name": "stdout",
          "text": [
            "+--------+--------+------+\n",
            "|Customer|category|Amount|\n",
            "+--------+--------+------+\n",
            "|       a|      el|    11|\n",
            "|       b|      el|    12|\n",
            "|       c|     fur|    13|\n",
            "|       d|     fur|    14|\n",
            "|       e|      el|    15|\n",
            "|       f|     fur|    16|\n",
            "+--------+--------+------+\n",
            "\n"
          ]
        }
      ]
    },
    {
      "cell_type": "code",
      "source": [
        "df.groupBy(\"category\").sum(\"amount\").show()"
      ],
      "metadata": {
        "id": "bQSQMIJ091q4",
        "colab": {
          "base_uri": "https://localhost:8080/"
        },
        "outputId": "4b6a411e-6883-432a-9f61-4f6234eb9858"
      },
      "execution_count": null,
      "outputs": [
        {
          "output_type": "stream",
          "name": "stdout",
          "text": [
            "+--------+-----------+\n",
            "|category|sum(amount)|\n",
            "+--------+-----------+\n",
            "|      el|         38|\n",
            "|     fur|         43|\n",
            "+--------+-----------+\n",
            "\n"
          ]
        }
      ]
    },
    {
      "cell_type": "code",
      "source": [
        "df.groupBy(\"customer\").sum(\"amount\").show()"
      ],
      "metadata": {
        "colab": {
          "base_uri": "https://localhost:8080/"
        },
        "id": "d0W8LP5tjY5l",
        "outputId": "2a0390ea-67d8-45c9-b773-a8aad24b8c7d"
      },
      "execution_count": 3,
      "outputs": [
        {
          "output_type": "stream",
          "name": "stdout",
          "text": [
            "+--------+-----------+\n",
            "|customer|sum(amount)|\n",
            "+--------+-----------+\n",
            "|       c|         13|\n",
            "|       b|         12|\n",
            "|       a|         11|\n",
            "|       f|         16|\n",
            "|       e|         15|\n",
            "|       d|         14|\n",
            "+--------+-----------+\n",
            "\n"
          ]
        }
      ]
    },
    {
      "cell_type": "code",
      "source": [
        "#cntd D12S3\n",
        "df.groupBy(\"Customer\")\\\n",
        "   .agg(sum(\"Amount\").alias(\"Totalspent\"),\\\n",
        "        avg(\"Amount\").alias(\"Avgspent\"),\\\n",
        "        max(\"Amount\").alias(\"Maxspent\"),\\\n",
        "        min(\"Amount\").alias(\"Minspent\")).show()\n",
        ""
      ],
      "metadata": {
        "id": "9qBQ2oekkas-",
        "colab": {
          "base_uri": "https://localhost:8080/",
          "height": 217
        },
        "outputId": "660efaad-e69a-4267-b65b-c868fbd418ff"
      },
      "execution_count": 11,
      "outputs": [
        {
          "output_type": "error",
          "ename": "TypeError",
          "evalue": "unsupported operand type(s) for +: 'int' and 'str'",
          "traceback": [
            "\u001b[0;31m---------------------------------------------------------------------------\u001b[0m",
            "\u001b[0;31mTypeError\u001b[0m                                 Traceback (most recent call last)",
            "\u001b[0;32m/tmp/ipython-input-11-2592931282.py\u001b[0m in \u001b[0;36m<cell line: 0>\u001b[0;34m()\u001b[0m\n\u001b[1;32m      1\u001b[0m \u001b[0;31m#cntd D12S3\u001b[0m\u001b[0;34m\u001b[0m\u001b[0;34m\u001b[0m\u001b[0m\n\u001b[1;32m      2\u001b[0m \u001b[0mdf\u001b[0m\u001b[0;34m.\u001b[0m\u001b[0mgroupBy\u001b[0m\u001b[0;34m(\u001b[0m\u001b[0;34m\"Customer\"\u001b[0m\u001b[0;34m)\u001b[0m\u001b[0;31m\\\u001b[0m\u001b[0;34m\u001b[0m\u001b[0;34m\u001b[0m\u001b[0m\n\u001b[0;32m----> 3\u001b[0;31m    .agg(sum(\"Amount\").alias(\"Totalspent\"),\\\n\u001b[0m\u001b[1;32m      4\u001b[0m         \u001b[0mavg\u001b[0m\u001b[0;34m(\u001b[0m\u001b[0;34m\"Amount\"\u001b[0m\u001b[0;34m)\u001b[0m\u001b[0;34m.\u001b[0m\u001b[0malias\u001b[0m\u001b[0;34m(\u001b[0m\u001b[0;34m\"Avgspent\"\u001b[0m\u001b[0;34m)\u001b[0m\u001b[0;34m,\u001b[0m\u001b[0;31m\\\u001b[0m\u001b[0;34m\u001b[0m\u001b[0;34m\u001b[0m\u001b[0m\n\u001b[1;32m      5\u001b[0m         \u001b[0mmax\u001b[0m\u001b[0;34m(\u001b[0m\u001b[0;34m\"Amount\"\u001b[0m\u001b[0;34m)\u001b[0m\u001b[0;34m.\u001b[0m\u001b[0malias\u001b[0m\u001b[0;34m(\u001b[0m\u001b[0;34m\"Maxspent\"\u001b[0m\u001b[0;34m)\u001b[0m\u001b[0;34m,\u001b[0m\u001b[0;31m\\\u001b[0m\u001b[0;34m\u001b[0m\u001b[0;34m\u001b[0m\u001b[0m\n",
            "\u001b[0;31mTypeError\u001b[0m: unsupported operand type(s) for +: 'int' and 'str'"
          ]
        }
      ]
    },
    {
      "cell_type": "code",
      "source": [],
      "metadata": {
        "id": "uZTzZgWGzbYo"
      },
      "execution_count": null,
      "outputs": []
    }
  ]
}